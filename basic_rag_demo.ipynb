{
 "cells": [
  {
   "cell_type": "code",
   "execution_count": 2,
   "id": "a6349cc9",
   "metadata": {},
   "outputs": [
    {
     "name": "stdout",
     "output_type": "stream",
     "text": [
      "Diebold Nixdorf\n",
      "\n",
      "BANKING\n",
      "\n",
      "RETAIL\n",
      "\n",
      "SUPPORT\n",
      "\n",
      "SUPPORT\n",
      "\n",
      "Aftersales Portal\n",
      "\n",
      "eGate\n",
      "\n",
      "eServices Portal\n",
      "\n",
      "eServices Portal Remote\n",
      "\n",
      "GBS Customer Portal\n",
      "\n",
      "Global Security Portal\n",
      "\n",
      "Manuals, Drivers, and Downloads\n",
      "\n",
      "SERAS\n",
      "\n",
      "Services Support Desk\n",
      "\n",
      "COMPANY\n",
      "\n",
      "COMPANY\n",
      "\n",
      "Environmental, Social & Governance\n",
      "\n",
      "Global Customer Experience Centers\n",
      "\n",
      "Investor Relations\n",
      "\n",
      "Leadership\n",
      "\n",
      "Culture\n",
      "\n",
      "News & Events\n",
      "\n",
      "Partners\n",
      "\n",
      "Who We Are\n",
      "\n",
      "Careers\n",
      "\n",
      "Contact\n",
      "\n",
      "Global Locations\n",
      "\n",
      "EN\n",
      "\n",
      "DE - Deutsch\n",
      "\n",
      "EN - English\n",
      "\n",
      "Transforming the Way People Bank an\n"
     ]
    }
   ],
   "source": [
    "from langchain_community.document_loaders import UnstructuredURLLoader\n",
    "\n",
    "# List of URLs to load\n",
    "urls = [\n",
    "    'https://www.dieboldnixdorf.com/en-us/',\n",
    "    'https://www.dieboldnixdorf.com/en-us/banking/',\n",
    "    'https://www.dieboldnixdorf.com/en-us/retail/',\n",
    "    'https://www.dieboldnixdorf.com/en-us/support/',\n",
    "    'https://www.dieboldnixdorf.com/en-us/about-us/',\n",
    "    'https://www.dieboldnixdorf.com/en-us/careers/',\n",
    "    'https://www.dieboldnixdorf.com/en-us/contact-us/',\n",
    "    'https://www.dieboldnixdorf.com/en-us/about-us/global-locations/'\n",
    "]\n",
    "\n",
    "# Load documents from the URLs\n",
    "loader = UnstructuredURLLoader(urls=urls)\n",
    "data = loader.load()\n",
    "\n",
    "# Optional: print preview of the first page's content\n",
    "print(data[0].page_content[:500])\n"
   ]
  },
  {
   "cell_type": "code",
   "execution_count": null,
   "id": "cde19f91",
   "metadata": {},
   "outputs": [],
   "source": [
    "import requests\n",
    "from bs4 import BeautifulSoup\n",
    "from urllib.parse import urljoin, urlparse\n",
    "from langchain_community.document_loaders import UnstructuredURLLoader\n",
    "\n",
    "# Step 1: Crawl internal links\n",
    "base_url = \"https://www.dieboldnixdorf.com/en-us/\"\n",
    "visited = set()\n",
    "to_visit = [base_url]\n",
    "all_links = set()\n",
    "\n",
    "print(\"🔍 Crawling internal links...\")\n",
    "\n",
    "while to_visit:\n",
    "    url = to_visit.pop()\n",
    "    if url in visited:\n",
    "        continue\n",
    "    visited.add(url)\n",
    "\n",
    "    try:\n",
    "        print(f\" Visiting: {url}\")\n",
    "        response = requests.get(url, timeout=10)\n",
    "        response.encoding = 'utf-8'  # Force UTF-8 decoding\n",
    "        soup = BeautifulSoup(response.text, 'html.parser')\n",
    "\n",
    "        for link_tag in soup.find_all('a', href=True):\n",
    "            href = link_tag['href']\n",
    "            full_url = urljoin(url, href)\n",
    "\n",
    "            \n",
    "            if urlparse(full_url).netloc == urlparse(base_url).netloc:\n",
    "                if full_url not in visited and full_url not in to_visit:\n",
    "                    to_visit.append(full_url)\n",
    "                    all_links.add(full_url)\n",
    "\n",
    "    except Exception as e:\n",
    "        print(f\" Failed to fetch {url}: {e}\")\n",
    "\n",
    "print(f\"\\n Total unique internal links found: {len(all_links)}\")\n",
    "\n",
    "\n",
    "print(\"\\n Loading content from links...\")\n",
    "loader = UnstructuredURLLoader(urls=list(all_links))\n",
    "data = loader.load()\n",
    "\n",
    "\n",
    "if data:\n",
    "    print(\"\\n📄 Sample content from first loaded page:\\n\")\n",
    "    print(data[0].page_content[:1000])\n",
    "else:\n",
    "    print(\" No content loaded.\")\n"
   ]
  },
  {
   "cell_type": "code",
   "execution_count": null,
   "id": "01d7d0ea",
   "metadata": {},
   "outputs": [],
   "source": [
    "from langchain_community.document_loaders import UnstructuredURLLoader\n",
    "\n",
    "loader = UnstructuredURLLoader(urls=list(all_links))\n",
    "data = loader.load()\n"
   ]
  },
  {
   "cell_type": "code",
   "execution_count": 3,
   "id": "a7c43094",
   "metadata": {},
   "outputs": [
    {
     "name": "stdout",
     "output_type": "stream",
     "text": [
      "Diebold Nixdorf\n",
      "\n",
      "BANKING\n",
      "\n",
      "RETAIL\n",
      "\n",
      "SUPPORT\n",
      "\n",
      "SUPPORT\n",
      "\n",
      "Aftersales Portal\n",
      "\n",
      "eGate\n",
      "\n",
      "eServices Portal\n",
      "\n",
      "eServices Portal Remote\n",
      "\n",
      "GBS Customer Portal\n",
      "\n",
      "Global Security Portal\n",
      "\n",
      "Manuals, Drivers, and Downloads\n",
      "\n",
      "SERAS\n",
      "\n",
      "Services Support Desk\n",
      "\n",
      "COMPANY\n",
      "\n",
      "COMPANY\n",
      "\n",
      "Environmental, Social & Governance\n",
      "\n",
      "Global Customer Experience Centers\n",
      "\n",
      "Investor Relations\n",
      "\n",
      "Leadership\n",
      "\n",
      "Culture\n",
      "\n",
      "News & Events\n",
      "\n",
      "Partners\n",
      "\n",
      "Who We Are\n",
      "\n",
      "Careers\n",
      "\n",
      "Contact\n",
      "\n",
      "Global Locations\n",
      "\n",
      "EN\n",
      "\n",
      "DE - Deutsch\n",
      "\n",
      "EN - English\n",
      "\n",
      "Transforming the Way People Bank an\n"
     ]
    }
   ],
   "source": [
    "print(data[0].page_content[:500])\n"
   ]
  },
  {
   "cell_type": "code",
   "execution_count": 4,
   "id": "27d71b78",
   "metadata": {},
   "outputs": [
    {
     "data": {
      "text/plain": [
       "8"
      ]
     },
     "execution_count": 4,
     "metadata": {},
     "output_type": "execute_result"
    }
   ],
   "source": [
    "len(data)\n"
   ]
  },
  {
   "cell_type": "code",
   "execution_count": 5,
   "id": "b8cb0f0e",
   "metadata": {},
   "outputs": [
    {
     "name": "stdout",
     "output_type": "stream",
     "text": [
      "Total number of documents:  39\n"
     ]
    }
   ],
   "source": [
    "from langchain.text_splitter import RecursiveCharacterTextSplitter\n",
    "\n",
    "# split data\n",
    "text_splitter = RecursiveCharacterTextSplitter(chunk_size=1000)\n",
    "docs = text_splitter.split_documents(data)\n",
    "\n",
    "\n",
    "print(\"Total number of documents: \",len(docs))"
   ]
  },
  {
   "cell_type": "code",
   "execution_count": 6,
   "id": "a21d97de",
   "metadata": {},
   "outputs": [
    {
     "data": {
      "text/plain": [
       "Document(metadata={'source': 'https://www.dieboldnixdorf.com/en-us/about-us/global-locations/'}, page_content=\"Tel: +90 216 544 10 00\\n\\nUkraine\\n\\nKiev\\n\\nDegtyarovskaya Str. 27T 3rd floor, BC “Micom Palace” 04119, Kiev\\n\\nTel.: +380 44 492 97 07 Fax: +380 44 492 97 09\\n\\nUnited Arab Emirates\\n\\nDubai\\n\\nDubai Internet City Building N16 Floor 1 Premises: 129\\n\\nTel.: +971 4 458 2320\\n\\nUnited Kingdom\\n\\nBracknell/Berkshire\\n\\nOne, The Boulevard Cain Road Bracknell/Berkshire RG12 1WP\\n\\nTel.: +44 (0)1344 384800 Fax: +44 (0)1344 384801\\n\\nDartford\\n\\nRadius House Anchor Boulevard Crossways Business Park Dartford DA2 6QH\\n\\nTel.: +44 (0) 1322 394 700\\n\\nVietnam\\n\\nHanoi\\n\\nRoom No. 6, 21st Floor, Charmvit Tower 117 Tran Duy Hung Street Hanoi, 10000\\n\\nTel.: +84-24-3 936 4361 Fax: +84-24-3 936 4362\\n\\nLet's Connect\\n\\nSubscribe for updates from Diebold Nixdorf\\n\\nTwitter\\n\\nFacebook\\n\\nLinkedIn\\n\\nYouTube\\n\\nBlog\\n\\nBanking\\n\\nRetail\\n\\nSupport\\n\\nCompany\\n\\nCareers\\n\\nGlobal Locations\\n\\nPrivacy Notice\\n\\nCookie Notice\\n\\nTerms of Use\\n\\nModern Slavery and Supply Chain Statement\\n\\nLegal Notice\\n\\nSite Map\\n\\n© 2025 Diebold Nixdorf, Incorporated. All Rights Reserved.\")"
      ]
     },
     "execution_count": 6,
     "metadata": {},
     "output_type": "execute_result"
    }
   ],
   "source": [
    "docs[38]"
   ]
  },
  {
   "cell_type": "code",
   "execution_count": null,
   "id": "d5682fda",
   "metadata": {},
   "outputs": [
    {
     "data": {
      "text/plain": [
       "[0.05168594419956207,\n",
       " -0.030764883384108543,\n",
       " -0.03062233328819275,\n",
       " -0.02802734263241291,\n",
       " 0.01813093200325966]"
      ]
     },
     "execution_count": 7,
     "metadata": {},
     "output_type": "execute_result"
    }
   ],
   "source": [
    "from langchain_chroma import Chroma\n",
    "from langchain_google_genai import GoogleGenerativeAIEmbeddings\n",
    "\n",
    "from dotenv import load_dotenv\n",
    "load_dotenv() \n",
    "\n",
    "\n",
    "\n",
    "embeddings = GoogleGenerativeAIEmbeddings(model=\"models/embedding-001\")\n",
    "vector = embeddings.embed_query(\"hello, world!\")\n",
    "vector[:5]\n",
    "\n"
   ]
  },
  {
   "cell_type": "code",
   "execution_count": 8,
   "id": "60a91bf4",
   "metadata": {},
   "outputs": [],
   "source": [
    "vectorstore = Chroma.from_documents(documents=docs, embedding=GoogleGenerativeAIEmbeddings(model=\"models/embedding-001\"))"
   ]
  },
  {
   "cell_type": "code",
   "execution_count": 9,
   "id": "78fef971",
   "metadata": {},
   "outputs": [],
   "source": [
    "retriever = vectorstore.as_retriever(search_type=\"similarity\", search_kwargs={\"k\": 6})\n",
    "\n",
    "retrieved_docs = retriever.invoke(\"What kind of services they provide?\")"
   ]
  },
  {
   "cell_type": "code",
   "execution_count": 10,
   "id": "23b38f8c",
   "metadata": {},
   "outputs": [
    {
     "data": {
      "text/plain": [
       "6"
      ]
     },
     "execution_count": 10,
     "metadata": {},
     "output_type": "execute_result"
    }
   ],
   "source": [
    "len(retrieved_docs)"
   ]
  },
  {
   "cell_type": "code",
   "execution_count": 11,
   "id": "57edb200",
   "metadata": {},
   "outputs": [
    {
     "name": "stdout",
     "output_type": "stream",
     "text": [
      "Diebold Nixdorf\n",
      "\n",
      "BANKING\n",
      "\n",
      "RETAIL\n",
      "\n",
      "SUPPORT\n",
      "\n",
      "SUPPORT\n",
      "\n",
      "Aftersales Portal\n",
      "\n",
      "eGate\n",
      "\n",
      "eServices Portal\n",
      "\n",
      "eServices Portal Remote\n",
      "\n",
      "GBS Customer Portal\n",
      "\n",
      "Global Security Portal\n",
      "\n",
      "Manuals, Drivers, and Downloads\n",
      "\n",
      "SERAS\n",
      "\n",
      "Services Support Desk\n",
      "\n",
      "COMPANY\n",
      "\n",
      "COMPANY\n",
      "\n",
      "Environmental, Social & Governance\n",
      "\n",
      "Global Customer Experience Centers\n",
      "\n",
      "Investor Relations\n",
      "\n",
      "Leadership\n",
      "\n",
      "Culture\n",
      "\n",
      "News & Events\n",
      "\n",
      "Partners\n",
      "\n",
      "Who We Are\n",
      "\n",
      "Careers\n",
      "\n",
      "Contact\n",
      "\n",
      "Global Locations\n",
      "\n",
      "EN\n",
      "\n",
      "DE - Deutsch\n",
      "\n",
      "EN - English\n",
      "\n",
      "Global Locations\n",
      "\n",
      "We're a global company with a local presence. In our \"always on\" world, we're shaping the future of transactions, so while our solutions are driven by universal themes, they come to life through unique regional collaborations with our customers.\n",
      "\n",
      "As the world leader in connected commerce, our organization has the breadth, scale and expertise to deliver the right solutions, at the right times, in the right place.\n",
      "\n",
      "Our Global Headquarters\n",
      "\n",
      "Diebold Nixdorf North Canton office building\n",
      "\n",
      "North Canton\n"
     ]
    }
   ],
   "source": [
    "print(retrieved_docs[5].page_content)"
   ]
  },
  {
   "cell_type": "code",
   "execution_count": 12,
   "id": "a9683d83",
   "metadata": {},
   "outputs": [],
   "source": [
    "from langchain_google_genai import ChatGoogleGenerativeAI\n",
    "\n",
    "llm = ChatGoogleGenerativeAI(model=\"gemini-1.5-pro\",temperature=0.3, max_tokens=500)"
   ]
  },
  {
   "cell_type": "code",
   "execution_count": 13,
   "id": "e3a35319",
   "metadata": {},
   "outputs": [],
   "source": [
    "from langchain.chains import create_retrieval_chain\n",
    "from langchain.chains.combine_documents import create_stuff_documents_chain\n",
    "from langchain_core.prompts import ChatPromptTemplate\n",
    "\n",
    "system_prompt = (\n",
    "    \"You are an assistant for question-answering tasks. \"\n",
    "    \"Use the following pieces of retrieved context to answer \"\n",
    "    \"the question. If you don't know the answer, say that you \"\n",
    "    \"don't know. Use three sentences maximum and keep the \"\n",
    "    \"answer concise.\"\n",
    "    \"\\n\\n\"\n",
    "    \"{context}\"\n",
    ")\n",
    "\n",
    "prompt = ChatPromptTemplate.from_messages(\n",
    "    [\n",
    "        (\"system\", system_prompt),\n",
    "        (\"human\", \"{input}\"),\n",
    "    ]\n",
    ")"
   ]
  },
  {
   "cell_type": "code",
   "execution_count": 14,
   "id": "69958e18",
   "metadata": {},
   "outputs": [],
   "source": [
    "question_answer_chain = create_stuff_documents_chain(llm, prompt)\n",
    "rag_chain = create_retrieval_chain(retriever, question_answer_chain)"
   ]
  },
  {
   "cell_type": "code",
   "execution_count": 15,
   "id": "64eccbba",
   "metadata": {},
   "outputs": [
    {
     "name": "stdout",
     "output_type": "stream",
     "text": [
      "Diebold Nixdorf provides solutions for banking and retail industries.  For banking, they offer solutions for branch transformation, self-service/ATM, teller automation, and payments & open banking.  For retail, they offer solutions for point of sale, self-service, mobility, and managed services.\n"
     ]
    }
   ],
   "source": [
    "\n",
    "response = rag_chain.invoke({\"input\": \"What kind of services they provide?\"})\n",
    "print(response[\"answer\"])"
   ]
  }
 ],
 "metadata": {
  "kernelspec": {
   "display_name": "myenv",
   "language": "python",
   "name": "python3"
  },
  "language_info": {
   "codemirror_mode": {
    "name": "ipython",
    "version": 3
   },
   "file_extension": ".py",
   "mimetype": "text/x-python",
   "name": "python",
   "nbconvert_exporter": "python",
   "pygments_lexer": "ipython3",
   "version": "3.10.11"
  }
 },
 "nbformat": 4,
 "nbformat_minor": 5
}
